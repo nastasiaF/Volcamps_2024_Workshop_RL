{
 "cells": [
  {
   "cell_type": "markdown",
   "metadata": {},
   "source": [
    "# TP1 Création d'un Environnement pour le Jeu du Pendu avec Python\n",
    "\n",
    "Vous allez créer un environnement simulant le jeu du Pendu en python, à l'aide de la bibliothèque Gymnasium. L'objectif est de permettre à un agent d'apprendre à jouer au jeu du pendu en explorant différentes actions (deviner des lettres) et en recevant des récompenses en fonction de ses choix.\n",
    "\n",
    "**Contexte du jeu :**\n",
    "\n",
    "Dans le jeu du Pendu, l'agent doit deviner un mot en proposant des lettres une à une. Chaque mauvaise tentative réduit le nombre d'essais restants. Le but est de deviner toutes les lettres du mot avant d'épuiser les tentatives.\n",
    "\n",
    "Vous allez implémenter un environnement où l'agent peut interagir, recevoir des observations, faire des actions (deviner une lettre) et recevoir des récompenses pour guider son apprentissage."
   ]
  },
  {
   "cell_type": "markdown",
   "metadata": {},
   "source": [
    "## 1. Création du fichier My_custom_Envs.py & import bibliothèques nécessaires\n",
    "\n",
    "Nous allons utiliser les bibliothèques \n",
    "- Gymnasium pour créer un environnement personnalisable,  \n",
    "- NumPy pour gérer les opérations mathématiques.\n",
    "- nltk pour obtenir un dictionnaire de mots.\n",
    "\n",
    "Créer un fichier My_custom_Envs.py pour construire l'environnement. \n"
   ]
  },
  {
   "cell_type": "markdown",
   "metadata": {},
   "source": [
    "## 2. Création de la class HangedManEnv de gym.Env\n",
    "\n",
    "Nous définir ici la classe HangedManEnv, représentant un environnement de jeu du Pendu adapté pour des agents d'apprentissage par renforcement. \n",
    "Cet environnement doit être compatible avec la bibliothèque gymnasium pour faciliter l'entraînement d'agents intelligents à résoudre le jeu du Pendu.\n",
    "\n",
    "\n",
    "Elle hérite de la classe gym.Env, ce qui en fait un environnement compatible avec Gym.\n",
    "Dans cette classe, nous allons définir plusieurs méthodes dont 3 principales :\n",
    "- __init__(), \n",
    "- __reset__(), \n",
    "- __step__()\n",
    "\n"
   ]
  },
  {
   "cell_type": "code",
   "execution_count": 1,
   "metadata": {},
   "outputs": [],
   "source": [
    "import gymnasium as gym\n",
    "class HangedManEnv_(gym.Env):\n",
    "    metadata = {\"render_modes\": [\"human\", \"rgb_array\"], \"n_total_try_games\": 11}\n",
    "\n",
    "    def __init__(self, max_word_size=8, word_dictionary=None, render_mode=None):\n",
    "        pass\n",
    "\n",
    "    def reset(self, seed=None, **kwargs):\n",
    "        pass\n",
    "\n",
    "    def step(self, action):\n",
    "        pass\n",
    "\n",
    "    def render(self):\n",
    "        pass"
   ]
  },
  {
   "cell_type": "markdown",
   "metadata": {},
   "source": [
    "### 2.1 Initialisation de la classe HangedManEnv : constructeur __init__\n",
    "\n",
    "__Paramètres__ :\n",
    " - max_word_size=8 : la longueur maximale du mot à deviner.\n",
    " - word_dictionary=None : un dictionnaire de mots personnalisés. Si aucun n'est fourni, le dictionnaire par défaut sera utilisé.\n",
    " - render_mode=None : le mode de rendu pour l'affichage du jeu (par exemple, console, interface graphique).\n",
    "\n",
    "__Attributs spécifiques :__\n",
    "\n",
    "- n_total_try_games : le nombre total d'essais autorisés pour deviner le mot.\n",
    "- encoded_state : un tableau NumPy vide qui représentera l'état encodé du mot à deviner.\n",
    "- encoded_aim : un tableau NumPy vide qui représentera l'encodage du mot cible.\n",
    "- encoded_tried_letters : une variable pour stocker les lettres déjà essayées.\n",
    "- _nb_left_try : le nombre d'essais restants pour le joueur.\n",
    "- word_dictionary : la liste des mots disponibles pour le jeu.\n",
    "- max_word_size : la longueur maximale des mots à deviner.\n",
    "\n",
    "\n",
    "__Définir un éspace d'action :__\n",
    "\n",
    "L'agent peut choisir parmi les 26 lettres de l'alphabet anglais (de 'a' à 'z').\n",
    "Utiliser spaces.Discrete(26) de la bibliothèque OpenAI Gym pour définir l'espace d'action.\n",
    "\n",
    "\n",
    "__Définir un éspace d'observation :__\n",
    "\n",
    "L'espace d'observation est un tuple composé  :\n",
    "\n",
    "- du mot deviné encodé : Un espace spaces.MultiDiscrete([28] * max_word_size) :\n",
    "Chaque position du mot peut prendre 28 états :\n",
    "    - de 2 à 28 pour chaque lettre de l'alphabet.\n",
    "    - 1 pour représenter une lettre inconnue (par exemple, '_').\n",
    "    - 0 pour représenter une position non active dans le mot (utilisée comme remplissage si le mot est plus court que max_word_size).\n",
    "\n",
    "-  des lettres essayées : Un espace spaces.MultiBinary(26) : Un vecteur binaire de taille 26 indiquant si chaque lettre de l'alphabet a déjà été essayée ou non.\n",
    "\n",
    "\n",
    "__Chargement du dictionnaire de mots :__\n",
    "\n",
    "Si aucun word_dictionary n'est fourni, utiliser le corpus de mots de la bibliothèque NLTK.\n",
    "\n",
    "Assurez-vous que le corpus est téléchargé ; sinon, téléchargez-le en utilisant nltk.download('words').\n",
    "Filtrer les mots pour qu'ils ne dépassent pas la longueur maximale spécifiée par max_word_size.\n",
    "\n",
    "\n"
   ]
  },
  {
   "cell_type": "markdown",
   "metadata": {},
   "source": [
    "###  2.2 Méthodes d'encodage & Décodage :\n",
    "\n",
    "Créer trois méthodes  pour gérer l'encodage et le décodage des mots et lettres essayées.\n",
    "\n",
    "- encode_word(self, word) :\n",
    "\n",
    "  - Prend en paramètre un mot (chaîne de caractères).\n",
    "  - Retourne un tableau NumPy encoded de taille self.max_word_size et de type np.int8.\n",
    "  - Pour chaque caractère du mot :\n",
    "       - Si le caractère est '_', affecter la valeur 1 à la position correspondante dans encoded.\n",
    "       - Sinon, encoder le caractère en utilisant la formule ord(char) - ord('A') + 2.\n",
    "    _Les positions non utilisées du tableau sont remplies avec des zéros (0)._\n",
    "\n",
    "- decode_word(encoded_word) (méthode statique) :\n",
    "\n",
    "  - Prend en paramètre un tableau NumPy encodé.\n",
    "  - Retourne le mot décodé sous forme de chaîne de caractères.\n",
    "  - Pour chaque code dans encoded_word :\n",
    "    - Si le code est 0, arrêter le décodage.\n",
    "    - Si le code est 1, ajouter '_' au mot décodé.\n",
    "    - Sinon, convertir le code en caractère avec chr(code + ord('A') - 2) et l'ajouter au mot décodé.\n",
    "\n",
    "\n",
    "- decode_tried_letters(self) :\n",
    "\n",
    "   - Parcourt self.encoded_tried_letters, une liste de booléens de taille 26 représentant les lettres de 'A' à 'Z'.\n",
    "   - Pour chaque index où la valeur est True, convertir l'index en la lettre correspondante (chr(index + ord('A'))) et l'ajouter à un ensemble.\n",
    "   - Retourne l'ensemble des lettres déjà essayées par le joueur."
   ]
  },
  {
   "cell_type": "markdown",
   "metadata": {},
   "source": [
    "### 2.3  La Class reset : Pour ré/initialiser l'environnement avant chaque épisode.\n",
    "\n",
    "L'objectif de cette classe est : \n",
    "- de gérer les observations, les informations supplémentaires, \n",
    "- de réinitialiser les attributs de l'environnement pour démarrer de nouvelles parties. ( Nombre d'essai,  ...)\n",
    "- de selectionner un nouveaux mots aléatoire depuis un dictionnaire donné, puis encoder ce mot dans un état cible.\n",
    "- de préparer les espaces d'observation (encoded state, encoded aim, etc.) pour suivre l'état du jeu.\n",
    "- Renvoie la prémière observation de la partie et des infos supplémentaires. \n",
    "\n",
    "\n",
    "__Méthode _get_obs(self) :__\n",
    "\n",
    "_Retourne l'observation actuelle de l'environnement sous la forme d'un tuple contenant :_\n",
    "  - self.encoded_state : le tableau NumPy représentant l'état encodé du mot à deviner.\n",
    "  - self.encoded_tried_letters : le tableau NumPy des lettres déjà essayées.\n",
    "\n",
    "\n",
    "__Méthode _get_info(self) :__\n",
    "\n",
    "Retourne un dictionnaire avec des informations supplémentaires, notamment :\n",
    "  - 'left try' : le nombre d'essais restants (self._nb_left_try).\n",
    "\n",
    "\n",
    "__Méthode reset(self, seed=None, **kwargs) :__\n",
    "\n",
    "_Réinitialise l'environnement pour commencer une nouvelle partie._\n",
    "\n",
    "__Etapes de la méthode :__ \n",
    "\n",
    "- Initialiser self.encoded_state avec un tableau NumPy de zéros de taille self.max_word_size et de type np.uint8.\n",
    "- Sélectionner aléatoirement un mot word dans self.word_dictionary, en s'assurant que sa longueur ne dépasse pas self.max_word_size. \n",
    "- Convertir le mot en majuscules (decoded_word).\n",
    "- Activer les positions correspondantes aux lettres du mot dans self.encoded_state.\n",
    "- Encoder le mot cible avec self.encode_word(decoded_word) et stocker le résultat dans self.encoded_aim.\n",
    "- Initialiser self.encoded_tried_letters comme un tableau NumPy de booléens de taille 26, initialisé à False.\n",
    "- Définir self._nb_left_try avec le nombre total d'essais autorisés (self.n_total_try_games).\n",
    "- Si self.render_mode est \"human\", appeler self.render().\n",
    "- __Retourner__ un tuple avec l'observation (self._get_obs()) et les informations (self._get_info())."
   ]
  },
  {
   "cell_type": "markdown",
   "metadata": {},
   "source": [
    "## 2.4 La méthode step(self, action) \n",
    "\n",
    "Cette méthode gère la logique d'un tour de jeu en fonction de l'action choisie par l'agent (une lettre de l'alphabet), met à jour l'état du jeu, calcule la récompense, et détermine si la partie est terminée.\n",
    "\n",
    "__Paramètre :__\n",
    "\n",
    "action : Un entier entre 0 et 25 inclus, représentant la lettre choisie par l'agent (0 pour 'A', 1 pour 'B', ..., 25 pour 'Z').\n",
    "\n",
    "__Etapes de la méthode :__ \n",
    "\n",
    "\n",
    "- 1. Initialiser la récompense :\n",
    "    Définir reward = -1 par défaut. Cela encourage l'agent à trouver le mot le plus rapidement possible, car chaque action coûte un point.\n",
    "- 2. Si la lettre n'a pas encore été tentée \n",
    "    Marquer la lettre comme essayée :"
   ]
  },
  {
   "cell_type": "markdown",
   "metadata": {},
   "source": []
  },
  {
   "cell_type": "markdown",
   "metadata": {},
   "source": [
    "## 2.5 render() : Pour afficher l'état actuel du jeu (le mot deviné et les lettres essayées)."
   ]
  },
  {
   "cell_type": "markdown",
   "metadata": {},
   "source": []
  },
  {
   "cell_type": "code",
   "execution_count": null,
   "metadata": {},
   "outputs": [],
   "source": []
  },
  {
   "cell_type": "markdown",
   "metadata": {},
   "source": [
    "## 3 Jouer avec l'environement.\n",
    "\n",
    "Dans ce notebook nous allons seulement jouer avec l'envirronement que nous avons créé\n",
    "\n",
    "1- Commencez par importer les bibliothéques necessaires random, gymnasium et numpy. \n",
    " Importer aussi l'environnement HangedManEnv que l'on viens de créer. \n",
    "\n",
    "2 - Créer une instance de l'envirronement \n",
    "\n",
    "3 - Initialser l'envirronnement avec la méthode reset. \n",
    "   - Afficher le mot à deviner\n",
    "   - Afficher le mot déviner décodé. \n",
    "   - Les lettres jouées codées \n",
    "   - les lettres restante à jouer et décodées\n",
    "    \n",
    "4 - Jouer une première action avec la methode step\n",
    "    - Afficher le nombre d'essai restant et le mot deviné\n",
    "    - Afficher les lettres restantes à jouer décodées\n",
    "\n",
    "5 - Vérification \n",
    "   - Tester que le jeu s'arrette quand le bon mot est trouvé. \n",
    "   - Tester que si il y a une erreur le reward est actualiser et que si on se trompe plus autorisé le jeu s'arrette \n",
    "\n",
    "\n",
    "\n"
   ]
  },
  {
   "cell_type": "markdown",
   "metadata": {},
   "source": [
    "## 3 CORRECTION"
   ]
  },
  {
   "cell_type": "markdown",
   "metadata": {},
   "source": [
    "### 1 - Importer les bibliothèques nécessaires"
   ]
  },
  {
   "cell_type": "code",
   "execution_count": 2,
   "metadata": {},
   "outputs": [],
   "source": [
    "# imports \n",
    "import random\n",
    "import gymnasium as gym\n",
    "from gymnasium import spaces\n",
    "import numpy as np\n",
    "\n",
    "# On importe notre environnement \n",
    "from My_custom_Envs import HangedManEnv"
   ]
  },
  {
   "cell_type": "markdown",
   "metadata": {},
   "source": [
    "### 2 - Créer une instance de l'environnement"
   ]
  },
  {
   "cell_type": "code",
   "execution_count": 3,
   "metadata": {},
   "outputs": [],
   "source": [
    "env = HangedManEnv(max_word_size=8)"
   ]
  },
  {
   "cell_type": "markdown",
   "metadata": {},
   "source": [
    "### 3 - Initialiser l'environnement avec la méthode reset"
   ]
  },
  {
   "cell_type": "code",
   "execution_count": 4,
   "metadata": {},
   "outputs": [],
   "source": [
    "# Initialisation de l'environnement\n",
    "observation, info = env.reset()"
   ]
  },
  {
   "cell_type": "code",
   "execution_count": 5,
   "metadata": {},
   "outputs": [
    {
     "name": "stdout",
     "output_type": "stream",
     "text": [
      "Pour cette partie le mot à deviner est AETIAN\n"
     ]
    }
   ],
   "source": [
    "# Afficher le mot à deviner (encodé)\n",
    "print( \"Pour cette partie le mot à deviner est \" + env.decode_word( env.encoded_aim ) )"
   ]
  },
  {
   "cell_type": "code",
   "execution_count": 6,
   "metadata": {},
   "outputs": [
    {
     "data": {
      "text/plain": [
       "'______'"
      ]
     },
     "execution_count": 6,
     "metadata": {},
     "output_type": "execute_result"
    }
   ],
   "source": [
    "# Le mot déviné décodé , au premier tour toutes les lettres reste masquées\n",
    "env.decode_word(observation[0])"
   ]
  },
  {
   "cell_type": "code",
   "execution_count": 7,
   "metadata": {},
   "outputs": [
    {
     "data": {
      "text/plain": [
       "array([False, False, False, False, False, False, False, False, False,\n",
       "       False, False, False, False, False, False, False, False, False,\n",
       "       False, False, False, False, False, False, False, False])"
      ]
     },
     "execution_count": 7,
     "metadata": {},
     "output_type": "execute_result"
    }
   ],
   "source": [
    "# les lettres jouées codées: \n",
    "observation[1]"
   ]
  },
  {
   "cell_type": "code",
   "execution_count": 8,
   "metadata": {},
   "outputs": [
    {
     "data": {
      "text/plain": [
       "set()"
      ]
     },
     "execution_count": 8,
     "metadata": {},
     "output_type": "execute_result"
    }
   ],
   "source": [
    "## Les lettres jouées\n",
    "[i for i , a in enumerate(observation[1])  if  a ]\n",
    "env.decode_tried_letters()"
   ]
  },
  {
   "cell_type": "code",
   "execution_count": 9,
   "metadata": {},
   "outputs": [
    {
     "name": "stdout",
     "output_type": "stream",
     "text": [
      "[0, 1, 2, 3, 4, 5, 6, 7, 8, 9, 10, 11, 12, 13, 14, 15, 16, 17, 18, 19, 20, 21, 22, 23, 24, 25]\n"
     ]
    }
   ],
   "source": [
    "## Les lettres restantes à jouer.\n",
    "possible_action = [i for i , a in enumerate(observation[1])  if not a ]\n",
    "print(possible_action)"
   ]
  },
  {
   "cell_type": "code",
   "execution_count": 10,
   "metadata": {},
   "outputs": [
    {
     "name": "stdout",
     "output_type": "stream",
     "text": [
      "['A', 'B', 'C', 'D', 'E', 'F', 'G', 'H', 'I', 'J', 'K', 'L', 'M', 'N', 'O', 'P', 'Q', 'R', 'S', 'T', 'U', 'V', 'W', 'X', 'Y', 'Z']\n"
     ]
    }
   ],
   "source": [
    "## Les lettres restantes à jouer décodées. \n",
    "possible_action_decoded = [ chr( i +  ord('A')) for i , a in enumerate(observation[1])  if not a ]\n",
    "print(possible_action_decoded)"
   ]
  },
  {
   "cell_type": "markdown",
   "metadata": {},
   "source": [
    "### 4 - Jouer une première action avec la methode step"
   ]
  },
  {
   "cell_type": "code",
   "execution_count": 11,
   "metadata": {},
   "outputs": [],
   "source": [
    "### Essayons la lettre A \n",
    "obs, reward, terminated, truncated, info =  env.step(1)\n"
   ]
  },
  {
   "cell_type": "code",
   "execution_count": 12,
   "metadata": {},
   "outputs": [
    {
     "data": {
      "text/plain": [
       "(10, '______')"
      ]
     },
     "execution_count": 12,
     "metadata": {},
     "output_type": "execute_result"
    }
   ],
   "source": [
    "env._nb_left_try, env.decode_word(observation[0])"
   ]
  },
  {
   "cell_type": "code",
   "execution_count": 13,
   "metadata": {},
   "outputs": [
    {
     "name": "stdout",
     "output_type": "stream",
     "text": [
      "[0, 1, 2, 3, 4, 5, 6, 7, 8, 9, 10, 11, 12, 13, 14, 15, 16, 17, 18, 19, 20, 21, 22, 23, 24, 25]\n"
     ]
    }
   ],
   "source": [
    "## Les lettres restantes à jouer \n",
    "possible_actions = [i for i , a in enumerate(observation[1])  if not a ]\n",
    "print(possible_action)\n",
    "\n",
    "env.close()"
   ]
  },
  {
   "cell_type": "markdown",
   "metadata": {},
   "source": [
    "### 5 - Vérification \n",
    "   - Tester que le jeu s'arrette quand le bon mot est trouvé. \n"
   ]
  },
  {
   "cell_type": "code",
   "execution_count": 14,
   "metadata": {},
   "outputs": [
    {
     "name": "stdout",
     "output_type": "stream",
     "text": [
      "AETIAN\n"
     ]
    },
    {
     "data": {
      "text/plain": [
       "{2, 6, 10, 15, 21}"
      ]
     },
     "execution_count": 14,
     "metadata": {},
     "output_type": "execute_result"
    }
   ],
   "source": [
    "print(env.decode_word( env.encoded_aim ) )\n",
    "set_actions = set(env.encoded_aim )\n",
    "set_actions.discard(0)\n",
    "\n",
    "set_actions"
   ]
  },
  {
   "cell_type": "code",
   "execution_count": 15,
   "metadata": {},
   "outputs": [
    {
     "name": "stdout",
     "output_type": "stream",
     "text": [
      "0 True\n",
      "5 5\n"
     ]
    }
   ],
   "source": [
    "reward_cum = 0\n",
    "terminated = False\n",
    "step = 0\n",
    "for action in set_actions :\n",
    "    # Jouer l'action choisie\n",
    "    obs, reward, terminated, _, info = env.step(action-2)\n",
    "    step = step + 1\n",
    "    reward_cum = reward_cum + reward\n",
    "    if terminated : break\n",
    "print(reward_cum, terminated)\n",
    "print( step, len(set_actions))\n"
   ]
  },
  {
   "cell_type": "markdown",
   "metadata": {},
   "source": [
    " - Tester que si il y a une erreur le reward est actualisé"
   ]
  },
  {
   "cell_type": "code",
   "execution_count": 16,
   "metadata": {},
   "outputs": [
    {
     "name": "stdout",
     "output_type": "stream",
     "text": [
      "UNRHYMED\n"
     ]
    }
   ],
   "source": [
    "obs, info = env.reset()\n",
    "print(env.decode_word( env.encoded_aim ) )"
   ]
  },
  {
   "cell_type": "code",
   "execution_count": 17,
   "metadata": {},
   "outputs": [
    {
     "name": "stdout",
     "output_type": "stream",
     "text": [
      "{0, 1, 2, 3, 4, 7, 8, 10, 11, 12, 13, 16, 17, 18, 20, 21, 23, 24, 25}\n"
     ]
    }
   ],
   "source": [
    "import string\n",
    "set_alphabet = set(range(26))\n",
    "set_actions = set(env.encoded_aim )\n",
    "set_wrong_actions= set_alphabet-set_actions\n",
    "print( set_wrong_actions)\n"
   ]
  },
  {
   "cell_type": "code",
   "execution_count": 18,
   "metadata": {},
   "outputs": [
    {
     "name": "stdout",
     "output_type": "stream",
     "text": [
      "letter out of bound : : 0 for A, 1 for B, ...\n",
      "letter out of bound : : 0 for A, 1 for B, ...\n",
      "-11 True\n",
      "13 11\n"
     ]
    }
   ],
   "source": [
    "reward_cum = 0\n",
    "terminated = False\n",
    "step = 0\n",
    "for action in set_wrong_actions :\n",
    "    # Jouer l'action choisie\n",
    "    obs, reward, terminated, _, info = env.step(action-2)\n",
    "    step = step + 1\n",
    "    reward_cum = reward_cum + reward\n",
    "    if terminated : break\n",
    "print(reward_cum, terminated)\n",
    "print( step, env.n_total_try_games)\n"
   ]
  },
  {
   "cell_type": "markdown",
   "metadata": {},
   "source": [
    "### Vérifier que les actions non possibles ne peuvent pas être jouées "
   ]
  },
  {
   "cell_type": "markdown",
   "metadata": {},
   "source": [
    "obs, info = env.reset()\n",
    "print(env.decode_word( env.encoded_aim ) )\n",
    "print( set(env.encoded_aim ) )"
   ]
  },
  {
   "cell_type": "code",
   "execution_count": 19,
   "metadata": {},
   "outputs": [
    {
     "name": "stdout",
     "output_type": "stream",
     "text": [
      "letter out of bound : : 0 for A, 1 for B, ...\n"
     ]
    },
    {
     "data": {
      "text/plain": [
       "((array([1, 1, 1, 1, 1, 1, 1, 1], dtype=uint8),\n",
       "  array([ True,  True,  True, False, False,  True,  True, False,  True,\n",
       "          True,  True,  True, False, False,  True,  True, False, False,\n",
       "         False, False, False, False, False, False, False, False])),\n",
       " 0,\n",
       " False,\n",
       " False,\n",
       " {'left try': 0})"
      ]
     },
     "execution_count": 19,
     "metadata": {},
     "output_type": "execute_result"
    }
   ],
   "source": [
    "env.step(45)"
   ]
  },
  {
   "cell_type": "code",
   "execution_count": 20,
   "metadata": {},
   "outputs": [
    {
     "data": {
      "text/plain": [
       "22"
      ]
     },
     "execution_count": 20,
     "metadata": {},
     "output_type": "execute_result"
    }
   ],
   "source": [
    "a = env.encoded_aim[0]\n",
    "a\n"
   ]
  },
  {
   "cell_type": "code",
   "execution_count": 21,
   "metadata": {},
   "outputs": [
    {
     "name": "stdout",
     "output_type": "stream",
     "text": [
      "letter out of bound : : 0 for A, 1 for B, ...\n"
     ]
    },
    {
     "data": {
      "text/plain": [
       "((array([1, 1, 1, 1, 1, 1, 1, 1], dtype=uint8),\n",
       "  array([ True,  True,  True, False, False,  True,  True, False,  True,\n",
       "          True,  True,  True, False, False,  True,  True, False, False,\n",
       "         False, False, False, False, False, False, False, False])),\n",
       " 0,\n",
       " False,\n",
       " False,\n",
       " {'left try': 0})"
      ]
     },
     "execution_count": 21,
     "metadata": {},
     "output_type": "execute_result"
    }
   ],
   "source": [
    "env.step(-1)"
   ]
  },
  {
   "cell_type": "code",
   "execution_count": 22,
   "metadata": {},
   "outputs": [
    {
     "name": "stdout",
     "output_type": "stream",
     "text": [
      "letter out of bound : : 0 for A, 1 for B, ...\n"
     ]
    },
    {
     "data": {
      "text/plain": [
       "((array([1, 1, 1, 1, 1, 1, 1, 1], dtype=uint8),\n",
       "  array([ True,  True,  True, False, False,  True,  True, False,  True,\n",
       "          True,  True,  True, False, False,  True,  True, False, False,\n",
       "         False, False, False, False, False, False, False, False])),\n",
       " 0,\n",
       " False,\n",
       " False,\n",
       " {'left try': 0})"
      ]
     },
     "execution_count": 22,
     "metadata": {},
     "output_type": "execute_result"
    }
   ],
   "source": [
    "env.step(46)"
   ]
  },
  {
   "cell_type": "code",
   "execution_count": null,
   "metadata": {},
   "outputs": [],
   "source": []
  }
 ],
 "metadata": {
  "kernelspec": {
   "display_name": "base",
   "language": "python",
   "name": "python3"
  },
  "language_info": {
   "codemirror_mode": {
    "name": "ipython",
    "version": 3
   },
   "file_extension": ".py",
   "mimetype": "text/x-python",
   "name": "python",
   "nbconvert_exporter": "python",
   "pygments_lexer": "ipython3",
   "version": "3.12.4"
  }
 },
 "nbformat": 4,
 "nbformat_minor": 2
}
