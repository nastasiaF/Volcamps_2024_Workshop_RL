{
 "cells": [
  {
   "cell_type": "markdown",
   "metadata": {},
   "source": [
    "### TP3 Transformation d'une observation en index pour la q-table : Explication"
   ]
  },
  {
   "cell_type": "markdown",
   "metadata": {},
   "source": [
    "__La Q-Table__ est généralement utilisée dans l'apprentissage par renforcement pour stocker des valeurs d'état-action. Chaque combinaison d'état (et éventuellement d'action) est représentée par un index unique pour accéder à la table.\n",
    "\n",
    "Dans notre environnement du le jeu du pendu, l'observation obs[0] représente les lettres devinées sous une forme encodée, où chaque position du mot contient un entier qui représente une lettre devinée ( de 2 à 28 ) ou un espace vide (_) ou un espace à ne pas utiliser. "
   ]
  },
  {
   "cell_type": "markdown",
   "metadata": {},
   "source": [
    "On suppose que la taille maximale d'un mot est max_length = 3 \n",
    "\n",
    "Si le mot à deviner est \"CAT\", l'observation pourrait être quelque chose\n",
    "\n",
    "- 1 correspond à la lettre \"A\" devinée (dans un certain encodage),\n",
    "- 0 représente un caractère non deviné (_),\n",
    "- 3 correspond à la lettre \"C\" devinée."
   ]
  },
  {
   "cell_type": "code",
   "execution_count": 29,
   "metadata": {},
   "outputs": [],
   "source": [
    "obs= [3,1,5]"
   ]
  },
  {
   "cell_type": "markdown",
   "metadata": {},
   "source": [
    "Ensuite on génère une liste de puissances de 28. Pourquoi 28 ? Dans le contexte du jeu du pendu :\n",
    "\n",
    "On utilise 26 lettres de l'alphabet (A à Z),\n",
    "On peut ajouter 1 symbole supplémentaire pour les positions non devinées (comme _),\n",
    "On peut éventuellement ajouter un symbole supplémentaire pour les caractères qui ne sont pas actifs ou pour la gestion des états vides, ce qui donne 28 valeurs possibles par position dans le mot.\n",
    "\n",
    "La liste ``` [28**i for i in range(max_length)]``` génère les puissances de 28.\n",
    "\n",
    "\n",
    "Pourquoi utiliser les puissances de 28 ?\n",
    "L'utilisation des puissances de 28 permet de traiter chaque position dans le mot comme un chiffre dans un système de numération en base 28. Cela garantit que chaque combinaison possible de lettres devinées dans le mot est convertie en un index unique, même si les lettres sont redistribuées à différentes positions.\n",
    "\n",
    "Cela fonctionne de manière similaire à un système de numération où vous encodez les états d'un problème en utilisant une base supérieure à 10. Ici, la base 28"
   ]
  },
  {
   "cell_type": "code",
   "execution_count": 11,
   "metadata": {},
   "outputs": [
    {
     "data": {
      "text/plain": [
       "[1, 28, 784]"
      ]
     },
     "execution_count": 11,
     "metadata": {},
     "output_type": "execute_result"
    }
   ],
   "source": [
    "[28**i for i in range(max_length)]"
   ]
  },
  {
   "cell_type": "markdown",
   "metadata": {},
   "source": [
    "np.dot() applique un produit scalaire entre deux vecteurs :\n",
    "- Le premier vecteur est obs[0], qui représente l'état actuel des lettres devinées,\n",
    "-Le second vecteur est [28**i for i in range(max_length)], qui représente les pondérations des différentes positions dans le mot en termes de puissances de 28.\n",
    "\n",
    "Le produit scalaire de ces deux vecteurs produit un index unique."
   ]
  },
  {
   "cell_type": "code",
   "execution_count": 30,
   "metadata": {},
   "outputs": [
    {
     "data": {
      "text/plain": [
       "3951"
      ]
     },
     "execution_count": 30,
     "metadata": {},
     "output_type": "execute_result"
    }
   ],
   "source": [
    "### Transformation d'une observation en index pour la q-table \n",
    "np.dot(obs, [28**i for i in range(max_length)])"
   ]
  }
 ],
 "metadata": {
  "kernelspec": {
   "display_name": "base",
   "language": "python",
   "name": "python3"
  },
  "language_info": {
   "codemirror_mode": {
    "name": "ipython",
    "version": 3
   },
   "file_extension": ".py",
   "mimetype": "text/x-python",
   "name": "python",
   "nbconvert_exporter": "python",
   "pygments_lexer": "ipython3",
   "version": "3.12.4"
  }
 },
 "nbformat": 4,
 "nbformat_minor": 2
}
